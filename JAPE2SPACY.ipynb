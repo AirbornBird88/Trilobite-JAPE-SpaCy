{
  "nbformat": 4,
  "nbformat_minor": 0,
  "metadata": {
    "colab": {
      "provenance": [],
      "authorship_tag": "ABX9TyPvwcxH75ZU1hHNbCeC6GtL",
      "include_colab_link": true
    },
    "kernelspec": {
      "name": "python3",
      "display_name": "Python 3"
    },
    "language_info": {
      "name": "python"
    }
  },
  "cells": [
    {
      "cell_type": "markdown",
      "metadata": {
        "id": "view-in-github",
        "colab_type": "text"
      },
      "source": [
        "<a href=\"https://colab.research.google.com/github/AirbornBird88/Trilobite-JAPE-SpaCy/blob/main/JAPE2SPACY.ipynb\" target=\"_parent\"><img src=\"https://colab.research.google.com/assets/colab-badge.svg\" alt=\"Open In Colab\"/></a>"
      ]
    },
    {
      "cell_type": "code",
      "source": [
        "from google.colab import files"
      ],
      "metadata": {
        "id": "iJuLwoQcUD02"
      },
      "execution_count": null,
      "outputs": []
    },
    {
      "cell_type": "code",
      "source": [
        "# Train data\n",
        "uploaded = files.upload()"
      ],
      "metadata": {
        "colab": {
          "base_uri": "https://localhost:8080/",
          "height": 142
        },
        "id": "BUMShpKBq23M",
        "outputId": "9ee148e5-5db0-47b8-e51e-529407587183"
      },
      "execution_count": null,
      "outputs": [
        {
          "output_type": "display_data",
          "data": {
            "text/plain": [
              "<IPython.core.display.HTML object>"
            ],
            "text/html": [
              "\n",
              "     <input type=\"file\" id=\"files-2658c25e-2536-4d16-97d4-b4d0c4114299\" name=\"files[]\" multiple disabled\n",
              "        style=\"border:none\" />\n",
              "     <output id=\"result-2658c25e-2536-4d16-97d4-b4d0c4114299\">\n",
              "      Upload widget is only available when the cell has been executed in the\n",
              "      current browser session. Please rerun this cell to enable.\n",
              "      </output>\n",
              "      <script>// Copyright 2017 Google LLC\n",
              "//\n",
              "// Licensed under the Apache License, Version 2.0 (the \"License\");\n",
              "// you may not use this file except in compliance with the License.\n",
              "// You may obtain a copy of the License at\n",
              "//\n",
              "//      http://www.apache.org/licenses/LICENSE-2.0\n",
              "//\n",
              "// Unless required by applicable law or agreed to in writing, software\n",
              "// distributed under the License is distributed on an \"AS IS\" BASIS,\n",
              "// WITHOUT WARRANTIES OR CONDITIONS OF ANY KIND, either express or implied.\n",
              "// See the License for the specific language governing permissions and\n",
              "// limitations under the License.\n",
              "\n",
              "/**\n",
              " * @fileoverview Helpers for google.colab Python module.\n",
              " */\n",
              "(function(scope) {\n",
              "function span(text, styleAttributes = {}) {\n",
              "  const element = document.createElement('span');\n",
              "  element.textContent = text;\n",
              "  for (const key of Object.keys(styleAttributes)) {\n",
              "    element.style[key] = styleAttributes[key];\n",
              "  }\n",
              "  return element;\n",
              "}\n",
              "\n",
              "// Max number of bytes which will be uploaded at a time.\n",
              "const MAX_PAYLOAD_SIZE = 100 * 1024;\n",
              "\n",
              "function _uploadFiles(inputId, outputId) {\n",
              "  const steps = uploadFilesStep(inputId, outputId);\n",
              "  const outputElement = document.getElementById(outputId);\n",
              "  // Cache steps on the outputElement to make it available for the next call\n",
              "  // to uploadFilesContinue from Python.\n",
              "  outputElement.steps = steps;\n",
              "\n",
              "  return _uploadFilesContinue(outputId);\n",
              "}\n",
              "\n",
              "// This is roughly an async generator (not supported in the browser yet),\n",
              "// where there are multiple asynchronous steps and the Python side is going\n",
              "// to poll for completion of each step.\n",
              "// This uses a Promise to block the python side on completion of each step,\n",
              "// then passes the result of the previous step as the input to the next step.\n",
              "function _uploadFilesContinue(outputId) {\n",
              "  const outputElement = document.getElementById(outputId);\n",
              "  const steps = outputElement.steps;\n",
              "\n",
              "  const next = steps.next(outputElement.lastPromiseValue);\n",
              "  return Promise.resolve(next.value.promise).then((value) => {\n",
              "    // Cache the last promise value to make it available to the next\n",
              "    // step of the generator.\n",
              "    outputElement.lastPromiseValue = value;\n",
              "    return next.value.response;\n",
              "  });\n",
              "}\n",
              "\n",
              "/**\n",
              " * Generator function which is called between each async step of the upload\n",
              " * process.\n",
              " * @param {string} inputId Element ID of the input file picker element.\n",
              " * @param {string} outputId Element ID of the output display.\n",
              " * @return {!Iterable<!Object>} Iterable of next steps.\n",
              " */\n",
              "function* uploadFilesStep(inputId, outputId) {\n",
              "  const inputElement = document.getElementById(inputId);\n",
              "  inputElement.disabled = false;\n",
              "\n",
              "  const outputElement = document.getElementById(outputId);\n",
              "  outputElement.innerHTML = '';\n",
              "\n",
              "  const pickedPromise = new Promise((resolve) => {\n",
              "    inputElement.addEventListener('change', (e) => {\n",
              "      resolve(e.target.files);\n",
              "    });\n",
              "  });\n",
              "\n",
              "  const cancel = document.createElement('button');\n",
              "  inputElement.parentElement.appendChild(cancel);\n",
              "  cancel.textContent = 'Cancel upload';\n",
              "  const cancelPromise = new Promise((resolve) => {\n",
              "    cancel.onclick = () => {\n",
              "      resolve(null);\n",
              "    };\n",
              "  });\n",
              "\n",
              "  // Wait for the user to pick the files.\n",
              "  const files = yield {\n",
              "    promise: Promise.race([pickedPromise, cancelPromise]),\n",
              "    response: {\n",
              "      action: 'starting',\n",
              "    }\n",
              "  };\n",
              "\n",
              "  cancel.remove();\n",
              "\n",
              "  // Disable the input element since further picks are not allowed.\n",
              "  inputElement.disabled = true;\n",
              "\n",
              "  if (!files) {\n",
              "    return {\n",
              "      response: {\n",
              "        action: 'complete',\n",
              "      }\n",
              "    };\n",
              "  }\n",
              "\n",
              "  for (const file of files) {\n",
              "    const li = document.createElement('li');\n",
              "    li.append(span(file.name, {fontWeight: 'bold'}));\n",
              "    li.append(span(\n",
              "        `(${file.type || 'n/a'}) - ${file.size} bytes, ` +\n",
              "        `last modified: ${\n",
              "            file.lastModifiedDate ? file.lastModifiedDate.toLocaleDateString() :\n",
              "                                    'n/a'} - `));\n",
              "    const percent = span('0% done');\n",
              "    li.appendChild(percent);\n",
              "\n",
              "    outputElement.appendChild(li);\n",
              "\n",
              "    const fileDataPromise = new Promise((resolve) => {\n",
              "      const reader = new FileReader();\n",
              "      reader.onload = (e) => {\n",
              "        resolve(e.target.result);\n",
              "      };\n",
              "      reader.readAsArrayBuffer(file);\n",
              "    });\n",
              "    // Wait for the data to be ready.\n",
              "    let fileData = yield {\n",
              "      promise: fileDataPromise,\n",
              "      response: {\n",
              "        action: 'continue',\n",
              "      }\n",
              "    };\n",
              "\n",
              "    // Use a chunked sending to avoid message size limits. See b/62115660.\n",
              "    let position = 0;\n",
              "    do {\n",
              "      const length = Math.min(fileData.byteLength - position, MAX_PAYLOAD_SIZE);\n",
              "      const chunk = new Uint8Array(fileData, position, length);\n",
              "      position += length;\n",
              "\n",
              "      const base64 = btoa(String.fromCharCode.apply(null, chunk));\n",
              "      yield {\n",
              "        response: {\n",
              "          action: 'append',\n",
              "          file: file.name,\n",
              "          data: base64,\n",
              "        },\n",
              "      };\n",
              "\n",
              "      let percentDone = fileData.byteLength === 0 ?\n",
              "          100 :\n",
              "          Math.round((position / fileData.byteLength) * 100);\n",
              "      percent.textContent = `${percentDone}% done`;\n",
              "\n",
              "    } while (position < fileData.byteLength);\n",
              "  }\n",
              "\n",
              "  // All done.\n",
              "  yield {\n",
              "    response: {\n",
              "      action: 'complete',\n",
              "    }\n",
              "  };\n",
              "}\n",
              "\n",
              "scope.google = scope.google || {};\n",
              "scope.google.colab = scope.google.colab || {};\n",
              "scope.google.colab._files = {\n",
              "  _uploadFiles,\n",
              "  _uploadFilesContinue,\n",
              "};\n",
              "})(self);\n",
              "</script> "
            ]
          },
          "metadata": {}
        },
        {
          "output_type": "stream",
          "name": "stdout",
          "text": [
            "Saving Last bite of an Ordovician trilobite.txt to Last bite of an Ordovician trilobite.txt\n",
            "Saving Bizarre 465-Million-Year-Old Creature Found With Gut Contents Preserved.txt to Bizarre 465-Million-Year-Old Creature Found With Gut Contents Preserved.txt\n",
            "Saving Last Meal of 465-Million-Year-Old Trilobite Discovered.txt to Last Meal of 465-Million-Year-Old Trilobite Discovered.txt\n"
          ]
        }
      ]
    },
    {
      "cell_type": "code",
      "source": [
        "# Test data\n",
        "test_data = files.upload()"
      ],
      "metadata": {
        "colab": {
          "base_uri": "https://localhost:8080/",
          "height": 107
        },
        "id": "eoB079ZJaqO_",
        "outputId": "f238b327-fc0a-4001-ac25-7074fad36e1b"
      },
      "execution_count": null,
      "outputs": [
        {
          "output_type": "display_data",
          "data": {
            "text/plain": [
              "<IPython.core.display.HTML object>"
            ],
            "text/html": [
              "\n",
              "     <input type=\"file\" id=\"files-dad9ef20-7481-4465-a996-b17e7780f80d\" name=\"files[]\" multiple disabled\n",
              "        style=\"border:none\" />\n",
              "     <output id=\"result-dad9ef20-7481-4465-a996-b17e7780f80d\">\n",
              "      Upload widget is only available when the cell has been executed in the\n",
              "      current browser session. Please rerun this cell to enable.\n",
              "      </output>\n",
              "      <script>// Copyright 2017 Google LLC\n",
              "//\n",
              "// Licensed under the Apache License, Version 2.0 (the \"License\");\n",
              "// you may not use this file except in compliance with the License.\n",
              "// You may obtain a copy of the License at\n",
              "//\n",
              "//      http://www.apache.org/licenses/LICENSE-2.0\n",
              "//\n",
              "// Unless required by applicable law or agreed to in writing, software\n",
              "// distributed under the License is distributed on an \"AS IS\" BASIS,\n",
              "// WITHOUT WARRANTIES OR CONDITIONS OF ANY KIND, either express or implied.\n",
              "// See the License for the specific language governing permissions and\n",
              "// limitations under the License.\n",
              "\n",
              "/**\n",
              " * @fileoverview Helpers for google.colab Python module.\n",
              " */\n",
              "(function(scope) {\n",
              "function span(text, styleAttributes = {}) {\n",
              "  const element = document.createElement('span');\n",
              "  element.textContent = text;\n",
              "  for (const key of Object.keys(styleAttributes)) {\n",
              "    element.style[key] = styleAttributes[key];\n",
              "  }\n",
              "  return element;\n",
              "}\n",
              "\n",
              "// Max number of bytes which will be uploaded at a time.\n",
              "const MAX_PAYLOAD_SIZE = 100 * 1024;\n",
              "\n",
              "function _uploadFiles(inputId, outputId) {\n",
              "  const steps = uploadFilesStep(inputId, outputId);\n",
              "  const outputElement = document.getElementById(outputId);\n",
              "  // Cache steps on the outputElement to make it available for the next call\n",
              "  // to uploadFilesContinue from Python.\n",
              "  outputElement.steps = steps;\n",
              "\n",
              "  return _uploadFilesContinue(outputId);\n",
              "}\n",
              "\n",
              "// This is roughly an async generator (not supported in the browser yet),\n",
              "// where there are multiple asynchronous steps and the Python side is going\n",
              "// to poll for completion of each step.\n",
              "// This uses a Promise to block the python side on completion of each step,\n",
              "// then passes the result of the previous step as the input to the next step.\n",
              "function _uploadFilesContinue(outputId) {\n",
              "  const outputElement = document.getElementById(outputId);\n",
              "  const steps = outputElement.steps;\n",
              "\n",
              "  const next = steps.next(outputElement.lastPromiseValue);\n",
              "  return Promise.resolve(next.value.promise).then((value) => {\n",
              "    // Cache the last promise value to make it available to the next\n",
              "    // step of the generator.\n",
              "    outputElement.lastPromiseValue = value;\n",
              "    return next.value.response;\n",
              "  });\n",
              "}\n",
              "\n",
              "/**\n",
              " * Generator function which is called between each async step of the upload\n",
              " * process.\n",
              " * @param {string} inputId Element ID of the input file picker element.\n",
              " * @param {string} outputId Element ID of the output display.\n",
              " * @return {!Iterable<!Object>} Iterable of next steps.\n",
              " */\n",
              "function* uploadFilesStep(inputId, outputId) {\n",
              "  const inputElement = document.getElementById(inputId);\n",
              "  inputElement.disabled = false;\n",
              "\n",
              "  const outputElement = document.getElementById(outputId);\n",
              "  outputElement.innerHTML = '';\n",
              "\n",
              "  const pickedPromise = new Promise((resolve) => {\n",
              "    inputElement.addEventListener('change', (e) => {\n",
              "      resolve(e.target.files);\n",
              "    });\n",
              "  });\n",
              "\n",
              "  const cancel = document.createElement('button');\n",
              "  inputElement.parentElement.appendChild(cancel);\n",
              "  cancel.textContent = 'Cancel upload';\n",
              "  const cancelPromise = new Promise((resolve) => {\n",
              "    cancel.onclick = () => {\n",
              "      resolve(null);\n",
              "    };\n",
              "  });\n",
              "\n",
              "  // Wait for the user to pick the files.\n",
              "  const files = yield {\n",
              "    promise: Promise.race([pickedPromise, cancelPromise]),\n",
              "    response: {\n",
              "      action: 'starting',\n",
              "    }\n",
              "  };\n",
              "\n",
              "  cancel.remove();\n",
              "\n",
              "  // Disable the input element since further picks are not allowed.\n",
              "  inputElement.disabled = true;\n",
              "\n",
              "  if (!files) {\n",
              "    return {\n",
              "      response: {\n",
              "        action: 'complete',\n",
              "      }\n",
              "    };\n",
              "  }\n",
              "\n",
              "  for (const file of files) {\n",
              "    const li = document.createElement('li');\n",
              "    li.append(span(file.name, {fontWeight: 'bold'}));\n",
              "    li.append(span(\n",
              "        `(${file.type || 'n/a'}) - ${file.size} bytes, ` +\n",
              "        `last modified: ${\n",
              "            file.lastModifiedDate ? file.lastModifiedDate.toLocaleDateString() :\n",
              "                                    'n/a'} - `));\n",
              "    const percent = span('0% done');\n",
              "    li.appendChild(percent);\n",
              "\n",
              "    outputElement.appendChild(li);\n",
              "\n",
              "    const fileDataPromise = new Promise((resolve) => {\n",
              "      const reader = new FileReader();\n",
              "      reader.onload = (e) => {\n",
              "        resolve(e.target.result);\n",
              "      };\n",
              "      reader.readAsArrayBuffer(file);\n",
              "    });\n",
              "    // Wait for the data to be ready.\n",
              "    let fileData = yield {\n",
              "      promise: fileDataPromise,\n",
              "      response: {\n",
              "        action: 'continue',\n",
              "      }\n",
              "    };\n",
              "\n",
              "    // Use a chunked sending to avoid message size limits. See b/62115660.\n",
              "    let position = 0;\n",
              "    do {\n",
              "      const length = Math.min(fileData.byteLength - position, MAX_PAYLOAD_SIZE);\n",
              "      const chunk = new Uint8Array(fileData, position, length);\n",
              "      position += length;\n",
              "\n",
              "      const base64 = btoa(String.fromCharCode.apply(null, chunk));\n",
              "      yield {\n",
              "        response: {\n",
              "          action: 'append',\n",
              "          file: file.name,\n",
              "          data: base64,\n",
              "        },\n",
              "      };\n",
              "\n",
              "      let percentDone = fileData.byteLength === 0 ?\n",
              "          100 :\n",
              "          Math.round((position / fileData.byteLength) * 100);\n",
              "      percent.textContent = `${percentDone}% done`;\n",
              "\n",
              "    } while (position < fileData.byteLength);\n",
              "  }\n",
              "\n",
              "  // All done.\n",
              "  yield {\n",
              "    response: {\n",
              "      action: 'complete',\n",
              "    }\n",
              "  };\n",
              "}\n",
              "\n",
              "scope.google = scope.google || {};\n",
              "scope.google.colab = scope.google.colab || {};\n",
              "scope.google.colab._files = {\n",
              "  _uploadFiles,\n",
              "  _uploadFilesContinue,\n",
              "};\n",
              "})(self);\n",
              "</script> "
            ]
          },
          "metadata": {}
        },
        {
          "output_type": "stream",
          "name": "stdout",
          "text": [
            "Saving Scientists unveil 240-million-year-old ‘dragon’ fossil.txt to Scientists unveil 240-million-year-old ‘dragon’ fossil.txt\n",
            "Saving Seven complete specimens of new flower, all 100 million years old.txt to Seven complete specimens of new flower, all 100 million years old.txt\n"
          ]
        }
      ]
    },
    {
      "cell_type": "code",
      "source": [
        "# Read the contents of the uploaded text file\n",
        "filename = 'Last bite of an Ordovician trilobite.txt'  # Replace with the name of your text file\n",
        "with open(filename, 'r', encoding='utf-8') as file:\n",
        "    text = file.read()\n",
        "\n",
        "# Print the contents of the text file\n",
        "print(text)\n"
      ],
      "metadata": {
        "id": "cKFqv1yTqyE9"
      },
      "execution_count": null,
      "outputs": []
    },
    {
      "cell_type": "code",
      "source": [
        "!pip install spacy"
      ],
      "metadata": {
        "id": "SvoPAHlI2n-R"
      },
      "execution_count": null,
      "outputs": []
    },
    {
      "cell_type": "code",
      "source": [
        "# List of train document paths\n",
        "train_document_paths = [\n",
        "    \"Bizarre 465-Million-Year-Old Creature Found With Gut Contents Preserved.txt\",\n",
        "    \"Last bite of an Ordovician trilobite.txt\",\n",
        "    \"Last Meal of 465-Million-Year-Old Trilobite Discovered.txt\"\n",
        "]"
      ],
      "metadata": {
        "id": "38keODPvDmn0"
      },
      "execution_count": null,
      "outputs": []
    },
    {
      "cell_type": "code",
      "source": [
        "# List of test document paths\n",
        "test_document_paths = [\n",
        "    \"Scientists unveil 240-million-year-old ‘dragon’ fossil.txt\",\n",
        "    \"Seven complete specimens of new flower, all 100 million years old.txt\"\n",
        "]"
      ],
      "metadata": {
        "id": "v_Df-xe8bGq-"
      },
      "execution_count": null,
      "outputs": []
    },
    {
      "cell_type": "code",
      "source": [
        "\n",
        "# Load English tokenizer, tagger, parser, and NER\n",
        "nlp = spacy.load(\"en_core_web_sm\")\n",
        "\n",
        "# Read the content of the document\n",
        "with open(\"Last bite of an Ordovician trilobite.txt\", \"r\", encoding=\"utf-8\") as file:\n",
        "    document_text = file.read()\n",
        "\n",
        "# Process the text with spaCy\n",
        "doc = nlp(document_text)\n",
        "\n",
        "# Iterate through the tokens in the Doc object\n",
        "for token in doc:\n",
        "    print(token.text, token.pos_, token.dep_)\n"
      ],
      "metadata": {
        "id": "7P_MwIqMUaYV"
      },
      "execution_count": null,
      "outputs": []
    },
    {
      "cell_type": "code",
      "source": [
        "import spacy\n",
        "from spacy.matcher import Matcher\n",
        "from spacy.tokens import Span\n",
        "from spacy import displacy\n",
        "\n",
        "# Load English tokenizer, tagger, parser and NER\n",
        "nlp = spacy.load(\"en_core_web_sm\")\n",
        "\n",
        "# Define the pattern\n",
        "species_name_pattern = [\n",
        "    {\"LEMMA\": {\"IN\": [\"species\", \"specimen\"]}, \"OP\": \"?\"},\n",
        "    {\"LOWER\": {\"IN\": [\"of\"]}, \"OP\": \"?\"},\n",
        "    {\"POS\": {\"IN\": [\"PROPN\"]},\"IS_TITLE\": True, \"IS_ALPHA\": True, \"IS_STOP\": False},\n",
        "    # {\"TEXT\": {\"REGEX\": \"\\\\n\"}, \"OP\": \"?\"},\n",
        "    {\"POS\": {\"IN\": [\"NOUN\"]},\"IS_LOWER\": True, \"IS_ALPHA\": True, \"OP\": \"{1,2}\", \"IS_STOP\": False},\n",
        "    {\"LEMMA\": {\"IN\": [\"species\", \"specimen\"]}, \"OP\": \"?\"}\n",
        "]\n",
        "\n",
        "# Initialize Matcher with the pattern\n",
        "species_name_matcher = Matcher(nlp.vocab)\n",
        "species_name_matcher.add(\"SpeciesNames\", [species_name_pattern])"
      ],
      "metadata": {
        "id": "e-QE2x9DYjky"
      },
      "execution_count": null,
      "outputs": []
    },
    {
      "cell_type": "code",
      "source": [
        "spacy.explain(\"nmod\")"
      ],
      "metadata": {
        "colab": {
          "base_uri": "https://localhost:8080/"
        },
        "id": "orMLb4UmkfzK",
        "outputId": "44fb4269-3d5f-4051-ac77-e35959b39363"
      },
      "execution_count": null,
      "outputs": [
        {
          "output_type": "stream",
          "name": "stderr",
          "text": [
            "/usr/local/lib/python3.10/dist-packages/spacy/glossary.py:20: UserWarning: [W118] Term 'SPACY' not found in glossary. It may however be explained in documentation for the corpora used to train the language. Please check `nlp.meta[\"sources\"]` for any relevant links.\n",
            "  warnings.warn(Warnings.W118.format(term=term))\n"
          ]
        }
      ]
    },
    {
      "cell_type": "code",
      "source": [
        "test = \"The last bite: an individual of the species Bohemolichas incola feeds on small invertebrates on the Ordovician seabed, unaware that the approaching mud current will soon bury and preserve it.\""
      ],
      "metadata": {
        "id": "20j_Yr3sC18W"
      },
      "execution_count": null,
      "outputs": []
    },
    {
      "cell_type": "code",
      "source": [
        "# Process each document\n",
        "for document_path in train_document_paths:\n",
        "    # Read the content of the document\n",
        "    with open(document_path, \"r\", encoding=\"utf-8\") as file:\n",
        "        document_text = file.read()\n",
        "\n",
        "    # Process the text\n",
        "    doc = nlp(document_text)\n",
        "\n",
        "    # Find matches\n",
        "    matches = species_name_matcher(doc)\n",
        "\n",
        "    # Extract species names\n",
        "    species_names = []\n",
        "    for match_id, start, end in matches:\n",
        "        species_name = doc[start:end].text\n",
        "        species_positions = (start, end)\n",
        "        species_names.append((species_name, species_positions))\n",
        "\n",
        "    # Print species names found in this document\n",
        "    print(f\"Species names in '{document_path}':\")\n",
        "    print(species_names)\n",
        "    print()"
      ],
      "metadata": {
        "colab": {
          "base_uri": "https://localhost:8080/"
        },
        "id": "G6smqREeDsVd",
        "outputId": "51aaa25f-ab46-465d-bc0e-bb260e1379e8"
      },
      "execution_count": null,
      "outputs": [
        {
          "output_type": "stream",
          "name": "stdout",
          "text": [
            "Species names in 'Bizarre 465-Million-Year-Old Creature Found With Gut Contents Preserved.txt':\n",
            "[('Bohemia region', (593, 595)), ('Bohemolichas incola', (797, 799)), ('Bohemolichas incola feeding', (797, 800)), ('Bohemolichas\\n   incola', (1184, 1187)), ('Newsweek science', (1645, 1647)), ('Newsweek science reporter', (1645, 1648)), ('Newsweek science', (1735, 1737)), ('Newsweek science reporter', (1735, 1738)), ('Newsweek cover', (2060, 2062)), ('Newsweek magazine', (2068, 2070)), ('Newsweek app', (2098, 2100)), ('Newsweek app updates', (2098, 2101)), ('Newsweek cover', (2111, 2113)), ('Newsweek app', (2139, 2141)), ('Newsweek app updates', (2139, 2142))]\n",
            "\n",
            "Species names in 'Last bite of an Ordovician trilobite.txt':\n",
            "[('Admission requirements', (625, 627)), ('General information', (650, 652)), ('Preparatory\\n   courses', (837, 840)), ('University website', (931, 933)), ('Přírodovědecká fakulta', (2082, 2084)), ('Czech trilobite', (2130, 2132)), ('Rokycany ball', (2192, 2194)), ('Palaeozoic ecosystems', (2245, 2247)), ('Bohemolichas\\n   incola', (2256, 2259)), ('Rokycany museum', (2425, 2427)), ('Rokycany trilobite', (2554, 2556)), ('Czech fossils', (2561, 2563)), ('Bohemolichas incola', (2708, 2710)), ('Bohemolichas\\n   incola', (2895, 2898)), ('Bohemolichas\\n   incola feeds', (2895, 2899))]\n",
            "\n",
            "Species names in 'Last Meal of 465-Million-Year-Old Trilobite Discovered.txt':\n",
            "[('Bohemolichas incola', (318, 320)), ('University invertebrate', (593, 595)), ('University invertebrate paleontologist', (593, 596)), ('Rockycany balls', (640, 642)), ('Ordovician period', (657, 659))]\n",
            "\n"
          ]
        }
      ]
    },
    {
      "cell_type": "markdown",
      "source": [],
      "metadata": {
        "id": "SqcUNyFNlDLZ"
      }
    },
    {
      "cell_type": "code",
      "source": [
        "from spacy.matcher import Matcher\n",
        "\n",
        "# List of geological periods\n",
        "geological_periods_gazetteer = [\n",
        "    \"Cambrian\",\n",
        "    \"Ordovician\",\n",
        "    \"Silurian\",\n",
        "    \"Devonian\",\n",
        "    \"Carboniferous\",\n",
        "    \"Permian\",\n",
        "    \"Triassic\",\n",
        "    \"Jurassic\",\n",
        "    \"Cretaceous\",\n",
        "    \"Paleocene\",\n",
        "    \"Eocene\",\n",
        "    \"Oligocene\",\n",
        "    \"Miocene\",\n",
        "    \"Pliocene\",\n",
        "    \"Pleistocene\",\n",
        "    \"Holocene\"\n",
        "]\n",
        "\n",
        "# Define geological period extraction pattern\n",
        "geological_period_pattern = [\n",
        "    {\"TEXT\": {\"IN\": geological_periods_gazetteer}}\n",
        "]\n",
        "\n",
        "\n",
        "# Create a new matcher for geological periods\n",
        "geological_period_matcher = Matcher(nlp.vocab)\n",
        "\n",
        "# Add the geological period pattern to the matcher\n",
        "geological_period_matcher.add(\"GeologicalPeriods\", [geological_period_pattern])"
      ],
      "metadata": {
        "id": "GdllnNmkHj44"
      },
      "execution_count": null,
      "outputs": []
    },
    {
      "cell_type": "code",
      "source": [
        "# Process each document\n",
        "for document_path in test_document_paths:\n",
        "    # Read the content of the document\n",
        "    with open(document_path, \"r\", encoding=\"utf-8\") as file:\n",
        "        document_text = file.read()\n",
        "\n",
        "    # Process the text\n",
        "    doc = nlp(document_text)\n",
        "\n",
        "    # Find matches for geological periods\n",
        "    geological_period_matches = geological_period_matcher(doc)\n",
        "    geological_periods = [doc[start:end].text for _, start, end in geological_period_matches]\n",
        "\n",
        "    # Print results for the current document\n",
        "    print(f\"Document: {document_path}\")\n",
        "    print(f\"Geological periods: {geological_periods}\")\n",
        "    print()"
      ],
      "metadata": {
        "colab": {
          "base_uri": "https://localhost:8080/"
        },
        "id": "-qD7Bd8o3DMQ",
        "outputId": "3d19979a-8063-4ff3-97d1-c7f71d9c51bc"
      },
      "execution_count": null,
      "outputs": [
        {
          "output_type": "stream",
          "name": "stdout",
          "text": [
            "Document: Scientists unveil 240-million-year-old ‘dragon’ fossil.txt\n",
            "Geological periods: ['Triassic', 'Triassic']\n",
            "\n",
            "Document: Seven complete specimens of new flower, all 100 million years old.txt\n",
            "Geological periods: ['Cretaceous', 'Cretaceous']\n",
            "\n"
          ]
        }
      ]
    }
  ]
}